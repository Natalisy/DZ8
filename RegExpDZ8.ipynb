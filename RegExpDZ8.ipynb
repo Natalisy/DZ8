{
 "cells": [
  {
   "cell_type": "code",
   "execution_count": null,
   "metadata": {},
   "outputs": [],
   "source": [
    "# Exercise 1\n",
    "\n",
    "# Напишите функцию, которая принимает на вход строку и проверяет является ли она валидным \n",
    "# транспортным номером (1 буква, 3 цифры, 2 буквы, 2-3 цифры). \n",
    "# Обратите внимание, что не все буквы кириллического алфавита используются в транспортных номерах: \n",
    "# А, В, Е, К, М, Н, О, Р, С, Т, У, Х.\n",
    "# Если номер валиден, то функция должна возвращать отдельно номер и регион.\n",
    "# Примеры работы программы:\n",
    "# car_id = 'АВ222С96'\n",
    "# Результат: Номер АВ222С валиден. Регион: 96\n",
    "# car_id = 'АБ22ВВ193'\n",
    "# Результат: Номер не валиден\n"
   ]
  },
  {
   "cell_type": "code",
   "execution_count": 1,
   "metadata": {},
   "outputs": [],
   "source": [
    "import re"
   ]
  },
  {
   "cell_type": "code",
   "execution_count": null,
   "metadata": {},
   "outputs": [],
   "source": [
    "def isValidNumber(car_number):\n",
    "    if re.findall(r'[АВЕКМНОРСТУХ]{2}\\d{3}[АВЕКМНОРСТУХ]{1}\\d{2,3}', \\\n",
    "                  car_number):\n",
    "        return f\"Is Valid. Number: {car_number[:6]}. Region: {car_number[6:]}\"\n",
    "    return \"Isn't valid\""
   ]
  },
  {
   "cell_type": "code",
   "execution_count": null,
   "metadata": {},
   "outputs": [],
   "source": [
    "isValidNumber('АВ222С96')"
   ]
  },
  {
   "cell_type": "code",
   "execution_count": null,
   "metadata": {},
   "outputs": [],
   "source": [
    "isValidNumber('АБ22ВВ193')"
   ]
  },
  {
   "cell_type": "code",
   "execution_count": null,
   "metadata": {},
   "outputs": [],
   "source": [
    "# Exercise 2\n",
    "\n",
    "# # Задание 2\n",
    "# # Напишите функцию, которая будет удалять все последовательные повторы слов из заданной строки \n",
    "# при помощи регулярных выражений.\n",
    "# # Пример работы программы:\n",
    "# # some_string = ‘Напишите функцию функцию, которая будет будет будет будет удалять \n",
    "# все все все все последовательные повторы слов из из из из заданной строки строки при помощи \n",
    "# регулярных выражений’\n",
    "# # Результат: Напишите функцию, которая будет удалять все последовательные повторы слов \n",
    "# из заданной строки при помощи регулярных выражений.\n"
   ]
  },
  {
   "cell_type": "code",
   "execution_count": null,
   "metadata": {},
   "outputs": [],
   "source": [
    "some_string = 'Напишите функцию функцию, которая будет будет будет будет удалять все все все все последовательные повторы слов из из из из заданной строки строки при помощи  регулярных выражений'"
   ]
  },
  {
   "cell_type": "code",
   "execution_count": null,
   "metadata": {},
   "outputs": [],
   "source": [
    "def delete_sequential_repeats(some_string):\n",
    "    return re.sub(r'\\b([^\\W\\d_]+)(\\s+\\1)+\\b', r'\\1', re.sub(r'\\W+', ' ', some_string).strip(), flags=re.I)\n"
   ]
  },
  {
   "cell_type": "code",
   "execution_count": null,
   "metadata": {},
   "outputs": [],
   "source": [
    "delete_sequential_repeats(some_string)"
   ]
  },
  {
   "cell_type": "code",
   "execution_count": null,
   "metadata": {},
   "outputs": [],
   "source": [
    "# Exercise 3\n",
    "\n",
    "# Напишите функцию, которая будет возвращать акроним по переданной в нее строке со словами.\n",
    "# Примеры работы программы:\n",
    "# some_words = 'Информационные технологии’\n",
    "# Результат: ИТ\n",
    "# some_words = 'Near Field Communication’\n",
    "# Результат: NFC\n"
   ]
  },
  {
   "cell_type": "code",
   "execution_count": null,
   "metadata": {},
   "outputs": [],
   "source": [
    "some_words1 = 'Информационные технологии'\n",
    "some_words2 = 'Near Field Communication'"
   ]
  },
  {
   "cell_type": "code",
   "execution_count": null,
   "metadata": {},
   "outputs": [],
   "source": [
    "def return_acronym(some_words):\n",
    "    acronym = ''\n",
    "    list_of_words = re.split(r'\\W', some_words)\n",
    "    for word in list_of_words:\n",
    "        first_letter = word[0]\n",
    "        acronym += first_letter\n",
    "    return acronym.upper()\n",
    "    "
   ]
  },
  {
   "cell_type": "code",
   "execution_count": null,
   "metadata": {},
   "outputs": [],
   "source": [
    "print(return_acronym(some_words1))\n",
    "print(return_acronym(some_words2))"
   ]
  },
  {
   "cell_type": "code",
   "execution_count": null,
   "metadata": {},
   "outputs": [],
   "source": [
    "# Exercise 4\n",
    "\n",
    "# Напишите функцию, которая будет принимать на вход список email-адресов и выводить их \n",
    "# распределение по доменным зонам.\n",
    "# Пример работы программы:\n",
    "# emails = [‘test@gmail.com, xyz@test.in, test@ya.ru, xyz@mail.ru, xyz@ya.ru’, xyz@gmail.com]\n",
    "# Результат:\n",
    "# gmail.com: 2\n",
    "# test.in: 1\n",
    "# ya.ru: 2\n",
    "# mail.ru: 1\n"
   ]
  },
  {
   "cell_type": "code",
   "execution_count": 4,
   "metadata": {},
   "outputs": [],
   "source": [
    "emails = ['test@gmail.com', 'xyz@test.in', 'test@ya.ru', 'xyz@mail.ru', 'xyz@ya.ru', 'xyz@gmail.com']"
   ]
  },
  {
   "cell_type": "code",
   "execution_count": 7,
   "metadata": {},
   "outputs": [],
   "source": [
    "def how_many_domens(list_of_emails):\n",
    "    domens = {'gmail.com':0, 'test.in':0, 'ya.ru':0, 'mail.ru':0}\n",
    "    for email in list_of_emails:\n",
    "        current = re.search(r'[a-z0-9_-]+(\\.[a-z0-9_-]+)*\\.[a-z]{2,9}', email)\n",
    "        current_domen = current.group(0)\n",
    "        if current_domen in domens.keys():\n",
    "            domens[current_domen] = domens[current_domen]+1\n",
    "        else:\n",
    "            domens['current_domen'] = 1\n",
    "    print('Результат:')\n",
    "    for domen, count in domens.items():\n",
    "        print(domen, ':', count)"
   ]
  },
  {
   "cell_type": "code",
   "execution_count": 8,
   "metadata": {},
   "outputs": [
    {
     "name": "stdout",
     "output_type": "stream",
     "text": [
      "Результат:\n",
      "gmail.com : 2\n",
      "test.in : 1\n",
      "ya.ru : 2\n",
      "mail.ru : 1\n"
     ]
    }
   ],
   "source": [
    "how_many_domens(emails)"
   ]
  },
  {
   "cell_type": "code",
   "execution_count": null,
   "metadata": {},
   "outputs": [],
   "source": [
    "# Exercise 5 (необязательное)\n",
    "\n",
    "# Напишите функцию, которая будет подсчитывать сколько слов начинается на гласные, \n",
    "# а сколько на согласные буквы в тексте (текст может быть написан как с использованием букв кириллицы, \n",
    "# так и латиницы).\n",
    "# # Пример работы программы:\n",
    "# # some_text = ‘Эталонной реализацией Python является интерпретатор CPython, \n",
    "# поддерживающий большинство активно используемых платформ. \n",
    "# Он распространяется под свободной лицензией Python Software Foundation License, \n",
    "# позволяющей использовать его без ограничений в любых приложениях, включая проприетарные.’\n",
    "# Результат:\n",
    "# Слов на гласные буквы: 9\n",
    "# Слов на согласные буквы: 21\n"
   ]
  },
  {
   "cell_type": "code",
   "execution_count": null,
   "metadata": {},
   "outputs": [],
   "source": []
  },
  {
   "cell_type": "code",
   "execution_count": null,
   "metadata": {},
   "outputs": [],
   "source": [
    "# Exercise 6 (необязательное)\n",
    "\n",
    "# # Напишите функцию, которая будет проверять номер сотового телефона на валидность, \n",
    "# если он валиден, то переводить его в формат:\n",
    "# # +7-xxx-xxx-xx-xx\n",
    "# # Постарайтесь предусмотреть как можно больше адекватных форматов изначального ввода номера.\n",
    "# Примеры работы программы:\n",
    "# phone = '+7 955 555-55-55’\n",
    "# Результат: +7-950-555-55-55\n",
    "# phone = '8(955)555-55-55’\n",
    "# Результат: +7-950-555-55-55\n",
    "# phone = '+7 955 555 55 55’\n",
    "# Результат: +7-950-555-55-55\n",
    "# phone = '7(955) 555-55-55’\n",
    "# Результат: +7-950-555-55-55\n",
    "# phone = '423-555-55-5555’\n",
    "# Результат: Номер не валиден\n",
    "# phone = '123-456-789’\n",
    "# Результат: Номер не валиден\n"
   ]
  },
  {
   "cell_type": "code",
   "execution_count": null,
   "metadata": {},
   "outputs": [],
   "source": []
  }
 ],
 "metadata": {
  "kernelspec": {
   "display_name": "Python 3",
   "language": "python",
   "name": "python3"
  },
  "language_info": {
   "codemirror_mode": {
    "name": "ipython",
    "version": 3
   },
   "file_extension": ".py",
   "mimetype": "text/x-python",
   "name": "python",
   "nbconvert_exporter": "python",
   "pygments_lexer": "ipython3",
   "version": "3.8.3"
  }
 },
 "nbformat": 4,
 "nbformat_minor": 2
}
